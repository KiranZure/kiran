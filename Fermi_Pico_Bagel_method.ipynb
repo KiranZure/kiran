{
  "cells": [
    {
      "cell_type": "markdown",
      "id": "0b55c9a8",
      "metadata": {
        "id": "0b55c9a8"
      },
      "source": [
        "## Fermi Pico Bagel\n",
        "Try playing game and understand the rules : https://communicrossings.com/html/js/pfb.htm\n",
        "\n",
        "## Step 1\n",
        "Store any number in string format(number to be guessed by player) in a variable `original_number`.\n",
        "\n",
        "For Example: original_number = '123'\n"
      ]
    },
    {
      "cell_type": "code",
      "execution_count": null,
      "id": "57a0a2d0",
      "metadata": {
        "colab": {
          "base_uri": "https://localhost:8080/",
          "height": 35
        },
        "id": "57a0a2d0",
        "outputId": "97465476-9d40-4ca9-e788-ffadc13aca70"
      },
      "outputs": [
        {
          "output_type": "execute_result",
          "data": {
            "text/plain": [
              "'567'"
            ],
            "application/vnd.google.colaboratory.intrinsic+json": {
              "type": "string"
            }
          },
          "metadata": {},
          "execution_count": 46
        }
      ],
      "source": [
        "## Your code goes here \n",
        "original_number=\"567\"\n",
        "original_number"
      ]
    },
    {
      "cell_type": "markdown",
      "id": "fd43340c",
      "metadata": {
        "id": "fd43340c"
      },
      "source": [
        "## Step 2\n",
        "Take a number as user input and save it in a variable `guess_number`.(Make sure that the datatype of guess_number is same as of original number i.e- `str`)"
      ]
    },
    {
      "cell_type": "code",
      "execution_count": null,
      "id": "2e0075a7",
      "metadata": {
        "colab": {
          "base_uri": "https://localhost:8080/"
        },
        "id": "2e0075a7",
        "outputId": "cbc62110-827f-4ffb-be4a-c9aa74f0ff55"
      },
      "outputs": [
        {
          "name": "stdout",
          "output_type": "stream",
          "text": [
            "Enter the number566\n"
          ]
        }
      ],
      "source": [
        "## Your code goes here\n",
        "guess_number=str(input(\"Enter the number\"))"
      ]
    },
    {
      "cell_type": "markdown",
      "id": "22318243",
      "metadata": {
        "id": "22318243"
      },
      "source": [
        "## Step 3\n",
        "Check if total number of digits in `original_number` and `guess_number` is not same(Use `len()` function) then ask user for valid input.(First use `len()` to get total digits in `original_number` and `guess_number`.)"
      ]
    },
    {
      "cell_type": "code",
      "execution_count": null,
      "id": "258e2971",
      "metadata": {
        "id": "258e2971"
      },
      "outputs": [],
      "source": [
        "## Your code goes here \n",
        "if len(original_number)!=len(guess_number):\n",
        "  print(\"Enter valide input\")\n",
        "\n",
        "\n"
      ]
    },
    {
      "cell_type": "markdown",
      "id": "0c064bda",
      "metadata": {
        "id": "0c064bda"
      },
      "source": [
        "## Step 4\n",
        "Using `set()`, check if the digits are repeated in a `guess_number` .\n",
        "Note that datatype `set` allows unique values only.\n",
        "\n",
        "For ex. if `user_input`is 122, then it should print the string 'Duplicate number'  as digit 2 is repeated."
      ]
    },
    {
      "cell_type": "code",
      "execution_count": null,
      "id": "7b5ef10d",
      "metadata": {
        "colab": {
          "base_uri": "https://localhost:8080/"
        },
        "id": "7b5ef10d",
        "outputId": "340e1167-da75-4132-d603-752322395b97"
      },
      "outputs": [
        {
          "output_type": "stream",
          "name": "stdout",
          "text": [
            "Duplicate number\n"
          ]
        }
      ],
      "source": [
        "## Your code goes here \n",
        "s=set(guess_number)\n",
        "if len(s)!=len(original_number):\n",
        "  print(\"Duplicate number\" )"
      ]
    },
    {
      "cell_type": "markdown",
      "id": "0514b8d9",
      "metadata": {
        "id": "0514b8d9"
      },
      "source": [
        "## Step 5\n",
        "Check winning condition i.e. if both `guess_number` and `original_number` are same, then print 'Fermi' as many number of times as number of digits in a number and print ' You win !! '.\n"
      ]
    },
    {
      "cell_type": "code",
      "execution_count": null,
      "id": "ab9379a5",
      "metadata": {
        "id": "ab9379a5"
      },
      "outputs": [],
      "source": [
        "## Your code goes here \n",
        "if guess_number==original_number:\n",
        "  print(\"fermi\"*len(guess_number), \"You Win!! \")"
      ]
    },
    {
      "cell_type": "markdown",
      "id": "96eca378",
      "metadata": {
        "id": "96eca378"
      },
      "source": [
        "## Step 6\n",
        "Create empty list called `output` where we will store the output in the form of list.\n",
        "\n",
        "For example: output = [ ' Fermi ', ' Pico ' ,' Pico ' ] ."
      ]
    },
    {
      "cell_type": "code",
      "execution_count": null,
      "id": "c047a839",
      "metadata": {
        "id": "c047a839"
      },
      "outputs": [],
      "source": [
        "## Your code goes here \n",
        "output=[]"
      ]
    },
    {
      "cell_type": "markdown",
      "id": "4949309d",
      "metadata": {
        "id": "4949309d"
      },
      "source": [
        "## Step 7\n",
        "Check if any digit and it's position in both `guess_number` and `original_number` are same then append 'Fermi' to `output` list or if only digit matches and not the position then append 'Pico' to `output`.\n"
      ]
    },
    {
      "cell_type": "code",
      "execution_count": null,
      "id": "7dbe3800",
      "metadata": {
        "id": "7dbe3800"
      },
      "outputs": [],
      "source": [
        "## Your code goes here \n",
        "for i in range(len(guess_number)):\n",
        "  if guess_number[i]==original_number[i]:\n",
        "    output.append(\"fermi\")\n",
        "  elif guess_number[i] in original_number:\n",
        "     output.append(\"pico\")\n",
        "\n",
        "\n",
        "     "
      ]
    },
    {
      "cell_type": "code",
      "source": [
        "g='23458'\n",
        "o='25359'\n",
        "\n",
        "for i in range(len(g)):\n",
        "  if g[i]==o[i]:\n",
        "    print('Fermi')\n",
        "  elif g[i] in o:\n",
        "    print('Pico')\n",
        "  else:\n",
        "    print('Bagel')"
      ],
      "metadata": {
        "colab": {
          "base_uri": "https://localhost:8080/"
        },
        "id": "SNon1iHUiKWS",
        "outputId": "4f00c67c-9fde-46c8-ac18-bc32166e6ea0"
      },
      "id": "SNon1iHUiKWS",
      "execution_count": null,
      "outputs": [
        {
          "output_type": "stream",
          "name": "stdout",
          "text": [
            "Fermi\n",
            "Pico\n",
            "Bagel\n",
            "Fermi\n",
            "Bagel\n"
          ]
        }
      ]
    },
    {
      "cell_type": "markdown",
      "id": "59e62457",
      "metadata": {
        "id": "59e62457"
      },
      "source": [
        "## Step 8\n",
        "Define a variable called `output_string` which has all values from a list `output` with each value separated by space. (Use 'for' loop to get all the values from a list `output`.)"
      ]
    },
    {
      "cell_type": "code",
      "execution_count": null,
      "id": "d15c8f60",
      "metadata": {
        "colab": {
          "base_uri": "https://localhost:8080/",
          "height": 35
        },
        "id": "d15c8f60",
        "outputId": "c806cf79-06cf-498a-c619-9a2d8b845325"
      },
      "outputs": [
        {
          "output_type": "execute_result",
          "data": {
            "text/plain": [
              "'fermi pico pico '"
            ],
            "application/vnd.google.colaboratory.intrinsic+json": {
              "type": "string"
            }
          },
          "metadata": {},
          "execution_count": 34
        }
      ],
      "source": [
        "output_string=''\n",
        "for a in output:\n",
        "  output_string=output_string+a+\" \"\n",
        "  \n",
        "output_string\n"
      ]
    },
    {
      "cell_type": "markdown",
      "id": "f3f50bef",
      "metadata": {
        "id": "f3f50bef"
      },
      "source": [
        "## Step 9\n",
        "Check if neither any digit nor any position matches i.e. if length of `output` list is zero then print `Bagel`.\n",
        "\n",
        "Otherwise print `output_string`."
      ]
    },
    {
      "cell_type": "code",
      "execution_count": null,
      "id": "3c568356",
      "metadata": {
        "colab": {
          "base_uri": "https://localhost:8080/"
        },
        "id": "3c568356",
        "outputId": "2e306c3e-64ab-4578-a446-2e9b99f01af5"
      },
      "outputs": [
        {
          "output_type": "stream",
          "name": "stdout",
          "text": [
            "fermi pico pico \n"
          ]
        }
      ],
      "source": [
        "## Your code goes here \n",
        "if len(output)==0:\n",
        " print(\"Begel\")\n",
        "else:\n",
        "  print(output_string)\n"
      ]
    },
    {
      "cell_type": "markdown",
      "id": "9d4a684d",
      "metadata": {
        "id": "9d4a684d"
      },
      "source": [
        "## Step 10\n",
        "\n",
        "## Complete game\n",
        "Here use continue and break statements at appropriate places."
      ]
    },
    {
      "cell_type": "code",
      "source": [
        "li=list(range(10))\n",
        "li"
      ],
      "metadata": {
        "colab": {
          "base_uri": "https://localhost:8080/"
        },
        "id": "werCSUPkhMCR",
        "outputId": "12c7685f-1ede-4cd9-f251-8608b63d872d"
      },
      "id": "werCSUPkhMCR",
      "execution_count": null,
      "outputs": [
        {
          "output_type": "execute_result",
          "data": {
            "text/plain": [
              "[0, 1, 2, 3, 4, 5, 6, 7, 8, 9]"
            ]
          },
          "metadata": {},
          "execution_count": 6
        }
      ]
    },
    {
      "cell_type": "code",
      "source": [
        "import random \n",
        "str(random.shuffle(li))\n",
        "print(li[:3])\n"
      ],
      "metadata": {
        "colab": {
          "base_uri": "https://localhost:8080/"
        },
        "id": "kwaUJzxjiq5e",
        "outputId": "c14a08be-5a0c-466d-ffc1-8aa2dd25e485"
      },
      "id": "kwaUJzxjiq5e",
      "execution_count": null,
      "outputs": [
        {
          "output_type": "stream",
          "name": "stdout",
          "text": [
            "[3, 5, 7]\n"
          ]
        }
      ]
    },
    {
      "cell_type": "code",
      "execution_count": null,
      "id": "79843cdf",
      "metadata": {
        "id": "79843cdf"
      },
      "outputs": [],
      "source": [
        "## step 1\n",
        "import random \n",
        "original_number=str(random.randint(111,999))\n",
        "print(original_number)\n",
        "\n",
        "\n",
        "## create infinite while loop\n",
        "while True:\n",
        "\n",
        "\n",
        "  ## step 2 and step 6\n",
        "  guess_number=str(input(\"Enter the number\"))\n",
        "  output=[]\n",
        "\n",
        "\n",
        "  ## step 3 and step 4 (use continue statement)\n",
        "  if len(original_number)!=len(guess_number):\n",
        "    print(\"Enter valide input\")\n",
        "  s=set(guess_number)\n",
        "  if len(s)!=len(original_number):\n",
        "    print(\"Duplicate number\" )\n",
        "\n",
        "\n",
        "  ## step 5 (use break statement for winning condition)\n",
        "  if guess_number==original_number:\n",
        "    print(\"fermi\"*len(guess_number), \"You Win!! \")\n",
        "    break\n",
        "\n",
        "\n",
        "  ## step 7\n",
        "  for i in range(len(guess_number)):\n",
        "    if guess_number[i]==original_number[i]:\n",
        "      output.append(\"fermi\")\n",
        "    elif guess_number[i] in original_number:\n",
        "      output.append(\"pico\")\n",
        "\n",
        "\n",
        "  ## step 8\n",
        "  output_string=''\n",
        "  for a in output:\n",
        "    output_string=output_string + a +\"  \"\n",
        "\n",
        "  ## step 9\n",
        "  if len(output)==0:\n",
        "    print(\"Begel\")\n",
        "  else:\n",
        "    print(output_string)"
      ]
    },
    {
      "cell_type": "code",
      "source": [
        "# write a program to find factors of 24\n",
        "# expected o/p 1,2,3,4,6,8,12,24\n",
        "n=int(input(\"enter a number\"))\n",
        "for i in range(1,n):\n",
        "  if n%i==0:\n",
        "   print(i)\n",
        "    "
      ],
      "metadata": {
        "id": "QqtE47Nx16fW",
        "colab": {
          "base_uri": "https://localhost:8080/"
        },
        "outputId": "115808cd-b33c-44a9-e78a-c1962bf752f1"
      },
      "id": "QqtE47Nx16fW",
      "execution_count": null,
      "outputs": [
        {
          "output_type": "stream",
          "name": "stdout",
          "text": [
            "enter a number24\n",
            "1\n",
            "2\n",
            "3\n",
            "4\n",
            "6\n",
            "8\n",
            "12\n"
          ]
        }
      ]
    },
    {
      "cell_type": "code",
      "source": [],
      "metadata": {
        "id": "gFJqRg7glQ_Y"
      },
      "id": "gFJqRg7glQ_Y",
      "execution_count": null,
      "outputs": []
    },
    {
      "cell_type": "code",
      "source": [],
      "metadata": {
        "id": "I0eyucScpE2k"
      },
      "id": "I0eyucScpE2k",
      "execution_count": null,
      "outputs": []
    }
  ],
  "metadata": {
    "kernelspec": {
      "display_name": "Python 3",
      "language": "python",
      "name": "python3"
    },
    "language_info": {
      "codemirror_mode": {
        "name": "ipython",
        "version": 3
      },
      "file_extension": ".py",
      "mimetype": "text/x-python",
      "name": "python",
      "nbconvert_exporter": "python",
      "pygments_lexer": "ipython3",
      "version": "3.8.8"
    },
    "colab": {
      "provenance": []
    }
  },
  "nbformat": 4,
  "nbformat_minor": 5
}